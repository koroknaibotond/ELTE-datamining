{
  "cells": [
    {
      "cell_type": "markdown",
      "metadata": {
        "colab_type": "text",
        "id": "view-in-github"
      },
      "source": [
        "<a href=\"https://colab.research.google.com/gist/bedohazizsolt/623636c1e881c260d520d33c13376907/HW_03.ipynb\" target=\"_parent\"><img src=\"https://colab.research.google.com/assets/colab-badge.svg\" alt=\"Open In Colab\"/></a>"
      ]
    },
    {
      "cell_type": "markdown",
      "metadata": {
        "id": "Jp4J8Pk4B4Os"
      },
      "source": [
        "# Supervised learning introduction, K-Nearest Neighbors (KNN)\n",
        "\n",
        "Your task will be to predict wine quality from physicochemical features with the help of the \n",
        "[Wine Quality Data Set](https://archive.ics.uci.edu/ml/datasets/Wine+Quality). You will have to do it both as a regression and classification task. \n",
        "\n",
        "\n",
        "-------\n",
        "\n",
        "###1. Read data\n",
        "  - Read the provided winequality-red.csv file. \n",
        "  - Check for missing values and that all entries are numerical. Also, check for duplicated entries (rows) and drop them.  \n",
        "  - Use all columns except the last as features and the quality column as target. \n",
        "  - Make 80-20% train test split (use sklearn).\n",
        "  - Prepare a one-hot encoded version of the y_test and y_train values ie. make a six long vector of the 6 quality classes (3-8), with only one non-zero value, e.g. 3->[1,0,0,0,0,0], 4->[0,1,0,0,0,0], 5->[0,0,1,0,0,0] etc. (You can use pandas or sklearn for that.) *You will have to use the one-hot encoded labels in the classification exercise only.*\n",
        "  - Normalize the features by substracting the means and dividing by the standard deviation feature by feature. If you want to be very precise, you should use only the mean and std in the training set for normalization, because generally the test test is not available at training time.\n",
        "\n",
        "----\n",
        "\n",
        "###2. KNN regression\n",
        "- Implement naive K nearest neighbour regression as a function only using python and numpy. The signature of the function should be:\n",
        "```python\n",
        "def knn_regression(x_test, x_train, y_train, k=20):\n",
        "        \"\"\"Return prediction with knn regression.\"\"\"\n",
        "        .\n",
        "        .\n",
        "        .\n",
        "        return y_pred\n",
        "```\n",
        "- Use Euclidean distance as a measure of distance.\n",
        "- Make prediction with k=20 for the test set using the training data.\n",
        "- Plot the true and the predicted values from the test set on a scatterplot.\n",
        "\n",
        "-----\n",
        "\n",
        "### 3. Weighted KNN regression\n",
        "- Modify the knn_regression function by adding a weight to each neighbor that is inversely proportional to the distance.\n",
        "```python\n",
        "def knn_weighted_regression(x_test,x_train,y_train,k=20):\n",
        "    \"\"\"Return prediction with weighted knn regression.\"\"\"\n",
        "    ...\n",
        "    return y_pred\n",
        "```\n",
        "- Make prediction with k=20 for the test set using the training data.\n",
        "- Plot the true and the predicted values from the test set on a scatterplot.\n",
        "\n",
        "-----\n",
        "\n",
        "### 4. KNN classification\n",
        "- Implement the K-nearest neighbors classification algorithm using only pure Python3 and numpy! Use L2 distance to find the neighbors. The prediction for each class should be the number of neighbors supporting the given class divided by k (for example if k is 5 and we have 3 neighbors for class A, 2 for class B and 0 for class C neighbors, then the prediction for class A should be 3/5, for class B 2/5, for class C 0/5). Use the one-hot encoded labels!\n",
        "```python\n",
        "def knn_classifier(X_train, y_train, X_test, k=20):\n",
        "  \"\"\"Return prediction with knn classification.\"\"\"\n",
        "    ...\n",
        "    return y_pred\n",
        "```\n",
        "\n",
        "- Make prediction with k=20 for the test set using the training data.\n",
        "\n",
        "-----\n",
        "\n",
        "### 5. Compare the models\n",
        "- Make a baseline model: this can be the mean value of the training labels for every sample.\n",
        "- Compare the regression and classification models to the baseline: You can do this by rounding the continous predictions of the regression to the nearest integer. Calculate the accuracy (fraction of correctly classified samples) of the models.\n",
        "- Check your KNN implementations by running the sklearn built-in model. \n",
        "You can run it for any model you implented. The predictions should be the same as yours. Some help:\n",
        "  ```python\n",
        "  from sklearn.neighbors import KNeighborsRegressor, KNeighborsClassifier\n",
        "  knn= KNeighborsRegressor(20, weights=\"distance\")\n",
        "  #knn= KNeighborsClassifier(20, weights=\"uniform\")\n",
        "  knn.fit(X_train, y_train)\n",
        "  knn.predict(X_test)\n",
        "  ```\n",
        "- Write down your observations.\n",
        "----\n",
        "### Hints:\n",
        "- On total you can get 10 points for fully completing all tasks.\n",
        "- Decorate your notebook with questions, explanation etc, make it self contained and understandable!\n",
        "- Comment your code when necessary!\n",
        "- Write functions for repetitive tasks!\n",
        "- Use the pandas package for data loading and handling\n",
        "- Use matplotlib and seaborn for plotting or bokeh and plotly for interactive investigation\n",
        "- Use the scikit learn package for almost everything\n",
        "- Use for loops only if it is really necessary!\n",
        "- Code sharing is not allowed between students! Sharing code will result in zero points.\n",
        "- If you use code found on web, it is OK, but, make its source clear!"
      ]
    },
    {
      "cell_type": "code",
      "execution_count": 1,
      "metadata": {},
      "outputs": [
        {
          "name": "stdout",
          "output_type": "stream",
          "text": [
            "%pylab is deprecated, use %matplotlib inline and import the required libraries.\n",
            "Populating the interactive namespace from numpy and matplotlib\n"
          ]
        }
      ],
      "source": [
        "%pylab inline"
      ]
    },
    {
      "cell_type": "code",
      "execution_count": 2,
      "metadata": {},
      "outputs": [],
      "source": [
        "import pandas as pd"
      ]
    },
    {
      "cell_type": "markdown",
      "metadata": {},
      "source": [
        "### Task 1"
      ]
    },
    {
      "cell_type": "code",
      "execution_count": 3,
      "metadata": {},
      "outputs": [],
      "source": [
        "data=pd.read_csv(\"winequality-red.csv\", sep=\";\")"
      ]
    },
    {
      "cell_type": "code",
      "execution_count": 4,
      "metadata": {},
      "outputs": [
        {
          "data": {
            "text/plain": [
              "fixed acidity           False\n",
              "volatile acidity        False\n",
              "citric acid             False\n",
              "residual sugar          False\n",
              "chlorides               False\n",
              "free sulfur dioxide     False\n",
              "total sulfur dioxide    False\n",
              "density                 False\n",
              "pH                      False\n",
              "sulphates               False\n",
              "alcohol                 False\n",
              "quality                 False\n",
              "dtype: bool"
            ]
          },
          "execution_count": 4,
          "metadata": {},
          "output_type": "execute_result"
        }
      ],
      "source": [
        "data.isna().any() #searching for missing datas"
      ]
    },
    {
      "cell_type": "code",
      "execution_count": 5,
      "metadata": {},
      "outputs": [
        {
          "data": {
            "text/plain": [
              "fixed acidity           float64\n",
              "volatile acidity        float64\n",
              "citric acid             float64\n",
              "residual sugar          float64\n",
              "chlorides               float64\n",
              "free sulfur dioxide     float64\n",
              "total sulfur dioxide    float64\n",
              "density                 float64\n",
              "pH                      float64\n",
              "sulphates               float64\n",
              "alcohol                 float64\n",
              "quality                   int64\n",
              "dtype: object"
            ]
          },
          "execution_count": 5,
          "metadata": {},
          "output_type": "execute_result"
        }
      ],
      "source": [
        "data.dtypes #making sure its all numerical datas"
      ]
    },
    {
      "cell_type": "code",
      "execution_count": 6,
      "metadata": {},
      "outputs": [
        {
          "data": {
            "text/plain": [
              "True"
            ]
          },
          "execution_count": 6,
          "metadata": {},
          "output_type": "execute_result"
        }
      ],
      "source": [
        "data.duplicated().any() #i found duplication, so we are going to drop them.\n"
      ]
    },
    {
      "cell_type": "code",
      "execution_count": 7,
      "metadata": {},
      "outputs": [],
      "source": [
        "data.drop_duplicates(inplace=True) "
      ]
    },
    {
      "cell_type": "code",
      "execution_count": 8,
      "metadata": {},
      "outputs": [],
      "source": [
        "#Now i am going to prepare the train, and test sets \n",
        "from sklearn.model_selection import train_test_split\n",
        "\n",
        "\n",
        "features = data.iloc[::,:-1] .values\n",
        "target = data[\"quality\"]\n",
        "\n",
        "\n",
        "X_train,X_test,y_train,y_test = train_test_split(features,target, test_size=0.2, random_state=42)"
      ]
    },
    {
      "cell_type": "code",
      "execution_count": 9,
      "metadata": {},
      "outputs": [],
      "source": [
        "X_test=(X_test-X_train.mean(0))/X_train.std(0)\n",
        "X_train=(X_train-X_train.mean(0))/X_train.std(0)"
      ]
    },
    {
      "cell_type": "code",
      "execution_count": 10,
      "metadata": {},
      "outputs": [],
      "source": [
        "# creating a one-hot encoded version of y_test and y_train\n",
        "\n",
        "y_train_onehot = pd.get_dummies(y_train).values\n",
        "y_test_onehot = pd.get_dummies(y_test).values # we use values beacuse it gives back a numpy array"
      ]
    },
    {
      "cell_type": "markdown",
      "metadata": {},
      "source": [
        "### Task 2"
      ]
    },
    {
      "cell_type": "code",
      "execution_count": 11,
      "metadata": {},
      "outputs": [],
      "source": [
        "def knn_regression(x_test, x_train, y_train, k=20):\n",
        "    \"\"\"Return prediction with knn regression.\"\"\"\n",
        "    y_pred = np.zeros(len(x_test))\n",
        "\n",
        "    for i, x_test_point in enumerate(x_test):\n",
        "        # Calculate the euclidean distances between x_test_point and all x_train points\n",
        "        distances = np.sqrt(np.sum((x_train - x_test_point)**2, axis=1))\n",
        "    \n",
        "       # Find indices of k-nearest neighbors\n",
        "        k_nearest_indices = np.argsort(distances)[:k]\n",
        "\n",
        "        # Calculate the predicted value as the mean of the k-nearest neighbors y values - without weights\n",
        "        y_pred[i] = np.mean(y_train.iloc[k_nearest_indices])\n",
        "\n",
        "    return y_pred\n",
        "\n",
        "    #source: https://www.analyticsvidhya.com/blog/2018/08/k-nearest-neighbor-introduction-regression-python/"
      ]
    },
    {
      "cell_type": "code",
      "execution_count": 12,
      "metadata": {},
      "outputs": [],
      "source": [
        "y_pred1 = knn_regression(X_test, X_train, y_train, k=20)\n"
      ]
    },
    {
      "cell_type": "code",
      "execution_count": 13,
      "metadata": {},
      "outputs": [
        {
          "data": {
            "text/plain": [
              "Text(0.5, 1.0, 'KNN regression')"
            ]
          },
          "execution_count": 13,
          "metadata": {},
          "output_type": "execute_result"
        },
        {
          "data": {
            "image/png": "[encoded data removed]",
            "text/plain": [
              "<Figure size 640x480 with 1 Axes>"
            ]
          },
          "metadata": {},
          "output_type": "display_data"
        }
      ],
      "source": [
        "scatter(y_test, y_pred1)\n",
        "xlabel('Test values')\n",
        "ylabel('Predicted Values')\n",
        "title('KNN regression')"
      ]
    },
    {
      "cell_type": "markdown",
      "metadata": {},
      "source": [
        "### Task 3"
      ]
    },
    {
      "cell_type": "markdown",
      "metadata": {},
      "source": [
        "In this task i am going to add weights to each neighbours, that is inversely proportional to the distance"
      ]
    },
    {
      "cell_type": "code",
      "execution_count": 14,
      "metadata": {},
      "outputs": [],
      "source": [
        "def knn_regression_weights(x_test, x_train, y_train, k=20):\n",
        "    \"\"\"Return prediction with knn regression.\"\"\"\n",
        "    y_pred = np.zeros(len(x_test))\n",
        "\n",
        "    for i, x_test_point in enumerate(x_test):\n",
        "        # Calculate the euclidean distances between x_test_point and all x_train points\n",
        "        distances = np.sqrt(np.sum((x_train - x_test_point)**2, axis=1))\n",
        "    \n",
        "       # Find indices of k-nearest neighbors\n",
        "        k_nearest_indices = np.argsort(distances)[:k]\n",
        "\n",
        "        # Calculating the predicted value as the mean of the k-nearest neighbors y values - with weights\n",
        "        y_pred[i] = np.average(y_train.iloc[k_nearest_indices], weights=1 / distances[k_nearest_indices])\n",
        "\n",
        "\n",
        "    return y_pred"
      ]
    },
    {
      "cell_type": "code",
      "execution_count": 15,
      "metadata": {},
      "outputs": [
        {
          "data": {
            "text/plain": [
              "Text(0.5, 1.0, 'Weighted KNN regression')"
            ]
          },
          "execution_count": 15,
          "metadata": {},
          "output_type": "execute_result"
        },
        {
          "data": {
            "image/png": "[encoded data removed]",
            "text/plain": [
              "<Figure size 640x480 with 1 Axes>"
            ]
          },
          "metadata": {},
          "output_type": "display_data"
        }
      ],
      "source": [
        "y_pred2 = knn_regression_weights(X_test, X_train, y_train, k=20)\n",
        "\n",
        "scatter(y_test, y_pred2)\n",
        "xlabel('True values')\n",
        "ylabel('Predicted values')\n",
        "title('Weighted KNN regression')"
      ]
    },
    {
      "cell_type": "markdown",
      "metadata": {},
      "source": [
        "### Task 4"
      ]
    },
    {
      "cell_type": "code",
      "execution_count": 16,
      "metadata": {},
      "outputs": [],
      "source": [
        "def knn_classifier(X_train, y_train, X_test, k=20):\n",
        "    \"\"\"Return prediction with knn classification.\"\"\"\n",
        "    y_pred = np.zeros((len(X_test), y_train.shape[1]))  # initialize an array for predictions\n",
        "\n",
        "    for i, x_test_point in enumerate(X_test):\n",
        "        # calculate L2 distances between x_test_point and all x_train points\n",
        "        distances = np.sqrt(np.sum((X_train - x_test_point)**2, axis=1))\n",
        "\n",
        "        # find indices of k-nearest neighbors\n",
        "        k_nearest_indices = np.argsort(distances)[:k]\n",
        "\n",
        "        # count the occurrences of each class in the k-nearest neighbors\n",
        "        class_counts = np.sum(y_train[k_nearest_indices], axis=0)\n",
        "\n",
        "        # calculate the prediction for each class\n",
        "        y_pred[i] = class_counts / k\n",
        "\n",
        "    return y_pred\n"
      ]
    },
    {
      "cell_type": "code",
      "execution_count": 17,
      "metadata": {},
      "outputs": [],
      "source": [
        "y_pred3 = knn_classifier(X_train, y_train_onehot, X_test, k=20)"
      ]
    },
    {
      "cell_type": "code",
      "execution_count": 18,
      "metadata": {},
      "outputs": [
        {
          "name": "stdout",
          "output_type": "stream",
          "text": [
            "Predicted Probabilities:\n",
            " [[0.   0.   0.75 0.25 0.   0.  ]\n",
            " [0.   0.   0.15 0.75 0.1  0.  ]\n",
            " [0.   0.   0.05 0.4  0.5  0.05]\n",
            " [0.05 0.05 0.55 0.25 0.1  0.  ]\n",
            " [0.   0.15 0.25 0.6  0.   0.  ]]\n"
          ]
        }
      ],
      "source": [
        "print(\"Predicted Probabilities:\\n\", y_pred3[:5])"
      ]
    },
    {
      "cell_type": "markdown",
      "metadata": {},
      "source": [
        "### Task 5"
      ]
    },
    {
      "cell_type": "code",
      "execution_count": 19,
      "metadata": {},
      "outputs": [
        {
          "name": "stdout",
          "output_type": "stream",
          "text": [
            "Accuracy of KNN regression:  0.6029411764705882\n",
            "Accuracy of weighted KNN regression:  0.6286764705882353\n",
            "Accuracy of KNN classification:  0.6066176470588235\n",
            "Baseline:  0.3786764705882353\n"
          ]
        }
      ],
      "source": [
        "\n",
        "print(\"Accuracy of KNN regression: \", sum(around(y_pred1)==y_test)/len(y_test)) #basically it checks the proportion of correct predicts, compared to all of the test data.  \n",
        "print(\"Accuracy of weighted KNN regression: \", sum(around(y_pred2)==y_test)/len(y_test))\n",
        "print(\"Accuracy of KNN classification: \", sum(np.argmax(y_pred3, axis=1)==np.argmax(y_test_onehot, axis=1))/len(y_test))\n",
        "print(\"Baseline: \", sum(around([y_train.mean()]*len(y_test))==y_test)/len(y_test))"
      ]
    },
    {
      "cell_type": "markdown",
      "metadata": {},
      "source": [
        "This accuracy calculation was written by one of the tutors of the course, i just copied it out, to learn from it and understand it."
      ]
    }
  ],
  "metadata": {
    "colab": {
      "collapsed_sections": [],
      "include_colab_link": true,
      "name": "lab03.ipynb",
      "provenance": []
    },
    "kernelspec": {
      "display_name": "Python 3",
      "name": "python3"
    },
    "language_info": {
      "codemirror_mode": {
        "name": "ipython",
        "version": 3
      },
      "file_extension": ".py",
      "mimetype": "text/x-python",
      "name": "python",
      "nbconvert_exporter": "python",
      "pygments_lexer": "ipython3",
      "version": "3.11.5"
    }
  },
  "nbformat": 4,
  "nbformat_minor": 0
}
